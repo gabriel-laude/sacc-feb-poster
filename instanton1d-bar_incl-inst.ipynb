{
 "cells": [
  {
   "cell_type": "code",
   "execution_count": 1,
   "id": "religious-casino",
   "metadata": {},
   "outputs": [
    {
     "data": {
      "application/vnd.jupyter.widget-view+json": {
       "model_id": "c3e5b7995b2a406a8699b55cc62a8cf9",
       "version_major": 2,
       "version_minor": 0
      },
      "text/plain": [
       "interactive(children=(FloatLogSlider(value=1e-13, description='$b$', max=-7.0, min=-13.0, step=2.0), Output())…"
      ]
     },
     "metadata": {},
     "output_type": "display_data"
    },
    {
     "data": {
      "text/plain": [
       "<function instanton.plot_1d(N=32, beta=30, b=0, V0=2, bar_charts=False)>"
      ]
     },
     "execution_count": 1,
     "metadata": {},
     "output_type": "execute_result"
    }
   ],
   "source": [
    "# nbi:hide_in\n",
    "from ipywidgets import interact, interactive, fixed, interact_manual\n",
    "from IPython.display import display\n",
    "import ipywidgets as widgets\n",
    "from instanton import plot_1d\n",
    "\n",
    "interact(plot_1d, \n",
    "         beta=fixed(30),\n",
    "         N=fixed(128), \n",
    "         V0=fixed(3),\n",
    "         b=widgets.FloatLogSlider(description=r'$b$', step=2, base=10, value=1e-13, min=-13, max=-7),\n",
    "         bar_charts=fixed(True))"
   ]
  }
 ],
 "metadata": {
  "kernelspec": {
   "display_name": "Python 3",
   "language": "python",
   "name": "python3"
  },
  "language_info": {
   "codemirror_mode": {
    "name": "ipython",
    "version": 3
   },
   "file_extension": ".py",
   "mimetype": "text/x-python",
   "name": "python",
   "nbconvert_exporter": "python",
   "pygments_lexer": "ipython3",
   "version": "3.6.9"
  }
 },
 "nbformat": 4,
 "nbformat_minor": 5
}
