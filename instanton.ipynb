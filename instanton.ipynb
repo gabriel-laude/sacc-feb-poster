{
 "cells": [
  {
   "cell_type": "markdown",
   "metadata": {
    "toc": true
   },
   "source": [
    "<h1>Table of Contents<span class=\"tocSkip\"></span></h1>\n",
    "<div class=\"toc\"><ul class=\"toc-item\"><li><span><a href=\"#Multidimensional-Systems\" data-toc-modified-id=\"Multidimensional-Systems-1\"><span class=\"toc-item-num\">1&nbsp;&nbsp;</span>Multidimensional Systems</a></span></li></ul></div>"
   ]
  },
  {
   "cell_type": "markdown",
   "metadata": {},
   "source": [
    "# Multidimensional Systems\n",
    "Here we employ a modified version of the PES by Creagh and Whelan. [??]\n",
    "\\begin{align}\n",
    "    V(x,y) = (x^2 - 1)^n + cx^2y^2 + k[y+\\gamma(x^2-1)]^2\n",
    "\\end{align}\n",
    "where the parameter $\\gamma$ controls the curvature of the PES. We choose $0.0 \\leq \\gamma \\leq 1.0$. For the other parameters, we choose \n",
    "$c=0.3, k=0.5, n=2$.\n",
    "\n",
    "$\\theta_{n_i=1}$ is then evaluated as\n",
    "\\begin{align}\n",
    "    \\label{eq:theta1-asymmetric}\n",
    "    \\theta_1 &\\simeq \\frac{\\langle{\\phi_{n_i=1}^{(l)}|e^{-\\beta\\hat{H}}|\\phi_{n_i=1}^{(r)}} \\rangle}{\\beta\\hbar} e^{\\beta E_1} \\nonumber \\\\\n",
    "    &=\\left[2\\alpha_i\\hbar \\mathbf{U'}^T\\mathbf{BU} + \\frac{2p_i^{(l)} p_i^{(r)}}{\\hbar \\sqrt{[m\\omega_i^{(l)}] [m\\omega_i^{(r)}]}}\\right] \n",
    "    \\: e^{\\beta (E_1 - E_0)} \\theta_0\n",
    "\\end{align}\n",
    "\n",
    "**Note: this is a trial set of text! The actual formula which goes in here is $\\theta_{n_i, n_j, \\dots}$**\n",
    "\n",
    "This is implemented below."
   ]
  },
  {
   "cell_type": "code",
   "execution_count": 13,
   "metadata": {},
   "outputs": [
    {
     "data": {
      "application/vnd.jupyter.widget-view+json": {
       "model_id": "b273805c64b9447d902839b3d5ca84f9",
       "version_major": 2,
       "version_minor": 0
      },
      "text/plain": [
       "interactive(children=(FloatLogSlider(value=32.0, base=2.0, description='N', max=8.0, min=5.0, step=1.0), Float…"
      ]
     },
     "metadata": {},
     "output_type": "display_data"
    },
    {
     "data": {
      "text/plain": [
       "<function __main__.plot_instanton(N, beta, d=0)>"
      ]
     },
     "execution_count": 13,
     "metadata": {},
     "output_type": "execute_result"
    }
   ],
   "source": [
    "from potentials import CreaghWhelan\n",
    "import numpy as np\n",
    "from scipy import linalg\n",
    "from instanton import optimiser\n",
    "import quasinewton, path_integral\n",
    "from ipywidgets import interact, interactive, fixed, interact_manual\n",
    "import ipywidgets as widgets\n",
    "\n",
    "# generate pes\n",
    "pes=CreaghWhelan(n=2, k=0.5, c=0.3, gamma=0., rotate=True)\n",
    "f=2\n",
    "\n",
    "def plot_instanton(N, beta, d=0): # for now d does nothing\n",
    "    beta=60\n",
    "    N=int(N)\n",
    "    xmin=np.array([-1,0])\n",
    "    x_comp = np.linspace(xmin[0], -xmin[0], N)\n",
    "    y_comp = np.linspace(xmin[1], xmin[1], N)\n",
    "    xguess=np.zeros((N,f))\n",
    "    xguess[:,0]=x_comp\n",
    "    xguess[:,1]=y_comp\n",
    "    pes.x0=xmin\n",
    "    x_opt=optimiser(xguess, pes, beta, N)\n",
    "    %matplotlib notebook \n",
    "    pes.plot(trajectory=x_opt)\n",
    "\n",
    "interact(plot_instanton, \n",
    "         beta=widgets.FloatSlider(min=30, max=100, step=10, value=30),\n",
    "         N=widgets.FloatLogSlider(min=5, max=8, step=1, base=2))"
   ]
  },
  {
   "cell_type": "code",
   "execution_count": null,
   "metadata": {},
   "outputs": [],
   "source": []
  }
 ],
 "metadata": {
  "kernelspec": {
   "display_name": "Python 3",
   "language": "python",
   "name": "python3"
  },
  "language_info": {
   "codemirror_mode": {
    "name": "ipython",
    "version": 3
   },
   "file_extension": ".py",
   "mimetype": "text/x-python",
   "name": "python",
   "nbconvert_exporter": "python",
   "pygments_lexer": "ipython3",
   "version": "3.6.9"
  },
  "toc": {
   "base_numbering": 1,
   "nav_menu": {},
   "number_sections": true,
   "sideBar": true,
   "skip_h1_title": false,
   "title_cell": "Table of Contents",
   "title_sidebar": "Contents",
   "toc_cell": true,
   "toc_position": {},
   "toc_section_display": true,
   "toc_window_display": false
  }
 },
 "nbformat": 4,
 "nbformat_minor": 2
}
