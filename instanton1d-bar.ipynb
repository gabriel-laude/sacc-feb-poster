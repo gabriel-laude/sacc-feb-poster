{
 "cells": [
  {
   "cell_type": "code",
   "execution_count": 1,
   "metadata": {},
   "outputs": [
    {
     "data": {
      "application/vnd.jupyter.widget-view+json": {
       "model_id": "f39cd75e6b2d4729a4c639204fb6f89e",
       "version_major": 2,
       "version_minor": 0
      },
      "text/plain": [
       "interactive(children=(FloatLogSlider(value=1e-13, description='$b$', max=-7.0, min=-13.0, step=2.0), Output())…"
      ]
     },
     "metadata": {},
     "output_type": "display_data"
    },
    {
     "data": {
      "text/plain": [
       "<function instanton.plot_1d(N, beta, b, V0, bar_charts=False)>"
      ]
     },
     "execution_count": 1,
     "metadata": {},
     "output_type": "execute_result"
    }
   ],
   "source": [
    "# nbi:hide_in\n",
    "from ipywidgets import interact, interactive, fixed, interact_manual\n",
    "from IPython.display import display\n",
    "import ipywidgets as widgets\n",
    "from instanton import plot_1d\n",
    "\n",
    "def update_x(V0):\n",
    "    print(V0)\n",
    "    if V0==3:\n",
    "        b_slider=widgets.FloatLogSlider(min=-13, max=-7, step=2, base=10, value=1e-13, description=r'$b$')\n",
    "    if V0==2.5:\n",
    "        b_slider=widgets.FloatLogSlider(min=-12, max=-6, step=2, base=10, value=1e-12, description=r'$b$')\n",
    "    if V0==2:\n",
    "        b_slider=widgets.FloatLogSlider(min=-11, max=-5, step=2, base=10, value=1e-11, description=r'$b$')\n",
    "    return b_slider\n",
    "\n",
    "\n",
    "V0_widget=widgets.Dropdown(options=[2,3], value=3, description=r'$V_0$')\n",
    "b_slider=widgets.FloatLogSlider(description=r'$b$', step=2, base=10, value=1e-13, min=-13, max=-7)\n",
    "def update(*args):\n",
    "    if V0_widget.value==3:\n",
    "        b_slider.min=-13\n",
    "        b_slider.max=-7\n",
    "        b_slider.value=1e-13\n",
    "        \n",
    "    if V0_widget.value==2:\n",
    "        b_slider.min=-11\n",
    "        b_slider.max=-5\n",
    "        b_slider.value=1e-11\n",
    "    \n",
    "V0_widget.observe(update)\n",
    "\n",
    "interact(plot_1d, \n",
    "         beta=fixed(30),\n",
    "         N=fixed(128), \n",
    "         V0=fixed(3),\n",
    "         b=b_slider,\n",
    "         bar_charts=fixed(True))"
   ]
  }
 ],
 "metadata": {
  "kernelspec": {
   "display_name": "Python 3",
   "language": "python",
   "name": "python3"
  },
  "language_info": {
   "codemirror_mode": {
    "name": "ipython",
    "version": 3
   },
   "file_extension": ".py",
   "mimetype": "text/x-python",
   "name": "python",
   "nbconvert_exporter": "python",
   "pygments_lexer": "ipython3",
   "version": "3.7.8"
  }
 },
 "nbformat": 4,
 "nbformat_minor": 5
}
