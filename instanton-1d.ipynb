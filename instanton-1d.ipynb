{
 "cells": [
  {
   "cell_type": "code",
   "execution_count": 1,
   "metadata": {},
   "outputs": [
    {
     "name": "stdout",
     "output_type": "stream",
     "text": [
      "Carrying out instanton calculation....\n"
     ]
    },
    {
     "data": {
      "application/vnd.jupyter.widget-view+json": {
       "model_id": "17a608fb563145daaaa60f65475f7519",
       "version_major": 2,
       "version_minor": 0
      },
      "text/plain": [
       "interactive(children=(FloatLogSlider(value=64.0, base=2.0, description='N', max=8.0, min=4.0, step=1.0), Float…"
      ]
     },
     "metadata": {},
     "output_type": "display_data"
    },
    {
     "data": {
      "text/plain": [
       "<function instanton.plot_1d(N=32, beta=30, b=0, V0=2)>"
      ]
     },
     "execution_count": 1,
     "metadata": {},
     "output_type": "execute_result"
    }
   ],
   "source": [
    "# nbi:hide_in\n",
    "from ipywidgets import interact, interactive, fixed, interact_manual\n",
    "import ipywidgets as widgets\n",
    "from instanton import plot_1d\n",
    "\n",
    "print(\"Carrying out instanton calculation....\")\n",
    "%matplotlib inline\n",
    "interact(plot_1d, \n",
    "         beta=widgets.FloatSlider(min=30, max=100, step=10, value=30),\n",
    "         N=widgets.FloatLogSlider(min=4, max=8, step=1, base=2, value=64), \n",
    "         b=widgets.FloatLogSlider(min=-11, max=-5, step=2, base=10, value=1e-11),\n",
    "         V0=widgets.FloatSlider(min=2, max=4, step=0.5, value=2))"
   ]
  }
 ],
 "metadata": {
  "kernelspec": {
   "display_name": "Python 3",
   "language": "python",
   "name": "python3"
  },
  "language_info": {
   "codemirror_mode": {
    "name": "ipython",
    "version": 3
   },
   "file_extension": ".py",
   "mimetype": "text/x-python",
   "name": "python",
   "nbconvert_exporter": "python",
   "pygments_lexer": "ipython3",
   "version": "3.6.9"
  }
 },
 "nbformat": 4,
 "nbformat_minor": 4
}
