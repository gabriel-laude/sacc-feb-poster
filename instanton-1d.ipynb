{
 "cells": [
  {
   "cell_type": "code",
   "execution_count": 1,
   "metadata": {},
   "outputs": [
    {
     "name": "stdout",
     "output_type": "stream",
     "text": [
      "Carrying out instanton calculation....\n"
     ]
    },
    {
     "data": {
      "application/vnd.jupyter.widget-view+json": {
       "model_id": "bab65e3a820749cbba80e8d1a8e4b439",
       "version_major": 2,
       "version_minor": 0
      },
      "text/plain": [
       "interactive(children=(FloatLogSlider(value=128.0, base=2.0, description='$N$', max=8.0, min=4.0, step=1.0), Fl…"
      ]
     },
     "metadata": {},
     "output_type": "display_data"
    },
    {
     "data": {
      "text/plain": [
       "<function instanton.plot_1d(N=32, beta=30, b=0, V0=2)>"
      ]
     },
     "execution_count": 1,
     "metadata": {},
     "output_type": "execute_result"
    }
   ],
   "source": [
    "# nbi:hide_in\n",
    "from ipywidgets import interact, interactive, fixed, interact_manual\n",
    "from IPython.display import display\n",
    "import ipywidgets as widgets\n",
    "from instanton import plot_1d\n",
    "\n",
    "print(\"Carrying out instanton calculation....\")\n",
    "%matplotlib inline\n",
    "def update_x(V0):\n",
    "    print(V0)\n",
    "    if V0==3:\n",
    "        b_slider=widgets.FloatLogSlider(min=-13, max=-7, step=2, base=10, value=1e-13, description=r'$b$')\n",
    "    if V0==2.5:\n",
    "        b_slider=widgets.FloatLogSlider(min=-12, max=-6, step=2, base=10, value=1e-12, description=r'$b$')\n",
    "    if V0==2:\n",
    "        b_slider=widgets.FloatLogSlider(min=-11, max=-5, step=2, base=10, value=1e-11, description=r'$b$')\n",
    "    return b_slider\n",
    "\n",
    "\n",
    "\n",
    "# try this out\n",
    "V0_widget=widgets.Dropdown(options=[2,3], value=3, description=r'$V_0$')\n",
    "b_slider=widgets.FloatLogSlider(description=r'$b$', step=2, base=10, value=1e-13, min=-13, max=-7)\n",
    "def update(*args):\n",
    "    if V0_widget.value==3:\n",
    "        b_slider.min=-13\n",
    "        b_slider.max=-7\n",
    "        b_slider.value=1e-13\n",
    "        \n",
    "    if V0_widget.value==2:\n",
    "        b_slider.min=-11\n",
    "        b_slider.max=-5\n",
    "        b_slider.value=1e-11\n",
    "    \n",
    "V0_widget.observe(update)\n",
    "    \n",
    "\n",
    "\n",
    "interact(plot_1d, \n",
    "         beta=widgets.FloatSlider(min=30, max=100, step=10, value=30, description=r'$\\beta\\:$'),\n",
    "         N=widgets.FloatLogSlider(min=4, max=8, step=1, base=2, value=128, description=r'$N$'), \n",
    "         V0=V0_widget,\n",
    "         b=b_slider)"
   ]
  }
 ],
 "metadata": {
  "kernelspec": {
   "display_name": "Python 3",
   "language": "python",
   "name": "python3"
  },
  "language_info": {
   "codemirror_mode": {
    "name": "ipython",
    "version": 3
   },
   "file_extension": ".py",
   "mimetype": "text/x-python",
   "name": "python",
   "nbconvert_exporter": "python",
   "pygments_lexer": "ipython3",
   "version": "3.7.8"
  }
 },
 "nbformat": 4,
 "nbformat_minor": 4
}
