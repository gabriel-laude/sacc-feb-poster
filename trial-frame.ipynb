{
 "cells": [
  {
   "cell_type": "code",
   "execution_count": 1,
   "metadata": {},
   "outputs": [
    {
     "data": {
      "text/html": [
       "<script>\n",
       "code_show=true; \n",
       "function code_toggle() {\n",
       "  if (code_show) {\n",
       "    $('div.input').each(function(id) {\n",
       "      el = $(this).find('.cm-variable:first');\n",
       "      if (id == 0 || el.text() == 'hide_me') {\n",
       "        $(this).hide();\n",
       "      }\n",
       "    });\n",
       "    $('div.output_prompt').css('opacity', 0);\n",
       "  } else {\n",
       "    $('div.input').each(function(id) {\n",
       "      $(this).show();\n",
       "    });\n",
       "    $('div.output_prompt').css('opacity', 1);\n",
       "  }\n",
       "  code_show = !code_show\n",
       "} \n",
       "$( document ).ready(code_toggle);\n",
       "</script>\n",
       "<form action=\"javascript:code_toggle()\"><input style=\"opacity:0\" type=\"submit\" value=\"Click here to toggle on/off the raw code.\"></form>"
      ],
      "text/plain": [
       "<IPython.core.display.HTML object>"
      ]
     },
     "execution_count": 1,
     "metadata": {},
     "output_type": "execute_result"
    }
   ],
   "source": [
    "# This is a cell to hide code snippets from displaying\n",
    "# This must be at first cell!\n",
    "\n",
    "from IPython.display import HTML\n",
    "\n",
    "hide_me = ''\n",
    "HTML('''<script>\n",
    "code_show=true; \n",
    "function code_toggle() {\n",
    "  if (code_show) {\n",
    "    $('div.input').each(function(id) {\n",
    "      el = $(this).find('.cm-variable:first');\n",
    "      if (id == 0 || el.text() == 'hide_me') {\n",
    "        $(this).hide();\n",
    "      }\n",
    "    });\n",
    "    $('div.output_prompt').css('opacity', 0);\n",
    "  } else {\n",
    "    $('div.input').each(function(id) {\n",
    "      $(this).show();\n",
    "    });\n",
    "    $('div.output_prompt').css('opacity', 1);\n",
    "  }\n",
    "  code_show = !code_show\n",
    "} \n",
    "$( document ).ready(code_toggle);\n",
    "</script>\n",
    "<form action=\"javascript:code_toggle()\"><input style=\"opacity:0\" type=\"submit\" value=\"Click here to toggle on/off the raw code.\"></form>''')"
   ]
  },
  {
   "cell_type": "markdown",
   "metadata": {},
   "source": [
    "Now we shall implement the Sqz PES (Nakamura, H., Mil'nikov, G. (2013). Quantum Mechanical Tunneling in Chemical Physics. Boca Raton: CRC Press, https://doi.org/10.1201/b14673), where the PES is given by\n",
    "\n",
    "\\begin{align}\n",
    "  V = \\frac{1}{8}(x-1)^2(x+1)^2 + \\frac{1}{2} \\left[\\omega_y^2 - \\gamma (x^2 - 1) \\right]y^2\n",
    "\\end{align}\n",
    "\n",
    "Here the user can vary $\\omega_y^2 = \\frac{\\text{d}^2 V}{\\text{d}y^2}$."
   ]
  },
  {
   "cell_type": "code",
   "execution_count": 2,
   "metadata": {
    "tags": [
     "hide-input"
    ]
   },
   "outputs": [
    {
     "data": {
      "application/vnd.jupyter.widget-view+json": {
       "model_id": "67e2bac5cf144d33bccf91c7756f9b04",
       "version_major": 2,
       "version_minor": 0
      },
      "text/plain": [
       "interactive(children=(FloatSlider(value=0.1, description='omega_y', max=0.5, min=0.1), Output()), _dom_classes…"
      ]
     },
     "metadata": {},
     "output_type": "display_data"
    },
    {
     "data": {
      "text/plain": [
       "<function __main__.plot_contours(omega_y)>"
      ]
     },
     "execution_count": 2,
     "metadata": {},
     "output_type": "execute_result"
    }
   ],
   "source": [
    "hide_me\n",
    "from matplotlib import pyplot as plt\n",
    "import numpy as np\n",
    "import scipy # will not be used, but just want to know availability\n",
    "from ipywidgets import interact, interactive, fixed, interact_manual\n",
    "import ipywidgets as widgets\n",
    "\n",
    "# input-hidden\n",
    "\n",
    "def V_sqz(x, omega_y, gamma):\n",
    "  x, y = x[...,0], x[...,1]\n",
    "  V=0.125*(x-1)**2*(x+1)**2 + 0.5*(omega_y**2 - gamma*(x**2-1))*y**2\n",
    "  return V\n",
    "\n",
    "def plot_contours(omega_y):\n",
    "  # generate potential values\n",
    "  gamma=0.2\n",
    "  npts=100 # give user as option?\n",
    "  x=np.linspace(-2, 2, npts)\n",
    "  y=np.linspace(-2, 2, npts)\n",
    "  V=np.empty((npts,npts))\n",
    "  for i in range(npts):\n",
    "    for j in range(npts):\n",
    "      V[i,j]=V_sqz(np.array([x[i], y[j]]), omega_y, gamma)\n",
    "\n",
    "  # contour plot generation\n",
    "  ax=plt.gca()\n",
    "  X, Y=np.meshgrid(x, y)\n",
    "  CS=ax.contour(X, Y, V, np.linspace(0,0.2,8))\n",
    "  ax.set_xbound(-2,2)\n",
    "  ax.set_ybound(-1.0,1.0)\n",
    "  \n",
    "interact(plot_contours, omega_y=widgets.FloatSlider(min=0.1, max=0.5, step=0.1, value=0.1)) "
   ]
  }
 ],
 "metadata": {
  "kernelspec": {
   "display_name": "Python 3",
   "language": "python",
   "name": "python3"
  },
  "language_info": {
   "codemirror_mode": {
    "name": "ipython",
    "version": 3
   },
   "file_extension": ".py",
   "mimetype": "text/x-python",
   "name": "python",
   "nbconvert_exporter": "python",
   "pygments_lexer": "ipython3",
   "version": "3.7.8"
  }
 },
 "nbformat": 4,
 "nbformat_minor": 2
}
