{
 "cells": [
  {
   "cell_type": "markdown",
   "metadata": {},
   "source": [
    "Now we shall implement the Sqz PES (Nakamura, H., Mil'nikov, G. (2013). Quantum Mechanical Tunneling in Chemical Physics. Boca Raton: CRC Press, https://doi.org/10.1201/b14673), where the PES is given by\n",
    "\n",
    "\\begin{align}\n",
    "  V = \\frac{1}{8}(x-1)^2(x+1)^2 + \\frac{1}{2} \\left[\\omega_y^2 - \\gamma (x^2 - 1) \\right]y^2\n",
    "\\end{align}\n",
    "\n",
    "Here the user can vary $\\omega_y^2 = \\frac{\\text{d}^2 V}{\\text{d}y^2}$."
   ]
  },
  {
   "cell_type": "code",
   "execution_count": 4,
   "metadata": {},
   "outputs": [
    {
     "data": {
      "application/vnd.jupyter.widget-view+json": {
       "model_id": "fc25c928746549fd87a07ba54dd46cc3",
       "version_major": 2,
       "version_minor": 0
      },
      "text/plain": [
       "interactive(children=(FloatSlider(value=0.1, description='omega_y', max=0.5, min=0.1), Output()), _dom_classes…"
      ]
     },
     "metadata": {},
     "output_type": "display_data"
    },
    {
     "data": {
      "text/plain": [
       "<function __main__.plot_contours(omega_y)>"
      ]
     },
     "execution_count": 4,
     "metadata": {},
     "output_type": "execute_result"
    }
   ],
   "source": [
    "#@title\n",
    "\n",
    "from matplotlib import pyplot as plt\n",
    "import numpy as np\n",
    "import scipy # will not be used, but just want to know availability\n",
    "from ipywidgets import interact, interactive, fixed, interact_manual\n",
    "import ipywidgets as widgets\n",
    "\n",
    "def V_sqz(x, omega_y, gamma):\n",
    "  x, y = x[...,0], x[...,1]\n",
    "  V=0.125*(x-1)**2*(x+1)**2 + 0.5*(omega_y**2 - gamma*(x**2-1))*y**2\n",
    "  return V\n",
    "\n",
    "def plot_contours(omega_y):\n",
    "  # generate potential values\n",
    "  gamma=0.2\n",
    "  npts=100 # give user as option?\n",
    "  x=np.linspace(-2, 2, npts)\n",
    "  y=np.linspace(-2, 2, npts)\n",
    "  V=np.empty((npts,npts))\n",
    "  for i in range(npts):\n",
    "    for j in range(npts):\n",
    "      V[i,j]=V_sqz(np.array([x[i], y[j]]), omega_y, gamma)\n",
    "\n",
    "  # contour plot generation\n",
    "  ax=plt.gca()\n",
    "  X, Y=np.meshgrid(x, y)\n",
    "  CS=ax.contour(X, Y, V, np.linspace(0,0.2,8))\n",
    "  ax.set_xbound(-2,2)\n",
    "  ax.set_ybound(-1.0,1.0)\n",
    "  \n",
    "interact(plot_contours, omega_y=widgets.FloatSlider(min=0.1, max=0.5, step=0.1, value=0.1)) "
   ]
  },
  {
   "cell_type": "code",
   "execution_count": null,
   "metadata": {},
   "outputs": [],
   "source": []
  }
 ],
 "metadata": {
  "kernelspec": {
   "display_name": "Python 3",
   "language": "python",
   "name": "python3"
  },
  "language_info": {
   "codemirror_mode": {
    "name": "ipython",
    "version": 3
   },
   "file_extension": ".py",
   "mimetype": "text/x-python",
   "name": "python",
   "nbconvert_exporter": "python",
   "pygments_lexer": "ipython3",
   "version": "3.7.8"
  }
 },
 "nbformat": 4,
 "nbformat_minor": 2
}
